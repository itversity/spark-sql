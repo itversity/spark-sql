{
 "cells": [
  {
   "cell_type": "markdown",
   "metadata": {},
   "source": [
    "# Pre-defined Functions\n",
    "\n",
    "Let us go through the functions that can be used while processing the data. These are typically applied on columns to get derived values from existing column values.\n",
    "\n",
    "* Overview of Functions\n",
    "* Validating Functions\n",
    "* String Manipulation Functions\n",
    "* Date Manipulation Functions\n",
    "* Overview of Numeric Functions\n",
    "* Data Type Conversion\n",
    "* Handling NULL Values\n",
    "* Using CASE and WHEN\n",
    "* Query Example - Word Count"
   ]
  },
  {
   "cell_type": "code",
   "execution_count": null,
   "metadata": {},
   "outputs": [],
   "source": [
    "import org.apache.spark.sql.SparkSession\n",
    "\n",
    "val username = System.getProperty(\"user.name\")\n",
    "val spark = SparkSession.\n",
    "    builder.\n",
    "    config(\"spark.ui.port\", \"0\").\n",
    "    config(\"spark.sql.warehouse.dir\", s\"/user/${username}/warehouse\").\n",
    "    enableHiveSupport.\n",
    "    appName(s\"${username} | Spark SQL - Overview of Functions\").\n",
    "    master(\"yarn\").\n",
    "    getOrCreate"
   ]
  }
 ],
 "metadata": {
  "kernelspec": {
   "display_name": "Apache Toree - Scala",
   "language": "scala",
   "name": "apache_toree_scala"
  },
  "language_info": {
   "codemirror_mode": "text/x-scala",
   "file_extension": ".scala",
   "mimetype": "text/x-scala",
   "name": "scala",
   "pygments_lexer": "scala",
   "version": "2.11.12"
  }
 },
 "nbformat": 4,
 "nbformat_minor": 4
}
