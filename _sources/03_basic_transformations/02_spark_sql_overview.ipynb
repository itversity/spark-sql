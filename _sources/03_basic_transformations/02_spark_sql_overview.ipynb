{
 "cells": [
  {
   "cell_type": "markdown",
   "metadata": {},
   "source": [
    "## Spark SQL – Overview\n",
    "\n",
    "Let us get an overview of Spark SQL.\n",
    "\n",
    "Here are the standard operations which we typically perform as part of processing the data. In Spark we can perform these using Data Frame APIs or **Spark SQL**."
   ]
  },
  {
   "cell_type": "code",
   "execution_count": 6,
   "metadata": {
    "tags": [
     "remove-cell"
    ]
   },
   "outputs": [
    {
     "data": {
      "text/html": [
       "<iframe width=\"560\" height=\"315\" src=\"https://www.youtube.com/embed/R7n6wDILtos?rel=0&amp;controls=0&amp;showinfo=0\" frameborder=\"0\" allowfullscreen></iframe>"
      ]
     },
     "execution_count": 6,
     "metadata": {},
     "output_type": "execute_result"
    }
   ],
   "source": [
    "%%HTML\n",
    "<iframe width=\"560\" height=\"315\" src=\"https://www.youtube.com/embed/R7n6wDILtos?rel=0&amp;controls=1&amp;showinfo=0\" frameborder=\"0\" allowfullscreen></iframe>"
   ]
  },
  {
   "cell_type": "markdown",
   "metadata": {},
   "source": [
    "* Selection or Projection – select clause\n",
    "  * It is also called as row level transformations.\n",
    "  * Apply standardization rules (convert names and addresses to upper case).\n",
    "  * Mask partial data (SSN and Date of births).\n",
    "* Filtering data – where clause\n",
    "  * Get orders based on date or product or category.\n",
    "* Joins – join (supports outer join as well)\n",
    "  * Join multiple data sets.\n",
    "* Aggregations – group by and aggregations with support of functions such as sum, avg, min, max etc\n",
    "  * Get revenue for a given order\n",
    "  * Get revenue for each order\n",
    "  * Get daily revenue\n",
    "* Sorting – order by\n",
    "  * Sort the final output by date.\n",
    "  * Sort the final output by date, then by revenue in descending order.\n",
    "  * Sort the final output by state or province, then by revenue in descending order.\n",
    "* Analytics Functions – aggregations, ranking and windowing functions\n",
    "  * Get top 5 stores by revenue for each state.\n",
    "  * Get top 5 products by revenue in each category."
   ]
  }
 ],
 "metadata": {
  "celltoolbar": "Tags",
  "kernelspec": {
   "display_name": "Apache Toree - Scala",
   "language": "scala",
   "name": "apache_toree_scala"
  },
  "language_info": {
   "codemirror_mode": "text/x-scala",
   "file_extension": ".scala",
   "mimetype": "text/x-scala",
   "name": "scala",
   "pygments_lexer": "scala",
   "version": "2.11.12"
  }
 },
 "nbformat": 4,
 "nbformat_minor": 4
}
