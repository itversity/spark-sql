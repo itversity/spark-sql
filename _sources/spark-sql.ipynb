{
 "cells": [
  {
   "cell_type": "markdown",
   "metadata": {},
   "source": [
    "# Apache Spark using SQL\n",
    "\n",
    "This course is primarily designed to learn Spark SQL as part of Data Engineering."
   ]
  },
  {
   "cell_type": "markdown",
   "metadata": {},
   "source": [
    "## About Spark SQL\n",
    "\n",
    "Spark SQL is one of the popular SQL framework as part of Big Data landscape. It is an open source SQL engine based up on Spark's distributed computing framework.\n",
    "\n",
    "Here are some of the usages of Spark SQL.\n",
    "* Implement transformation rules as part of Data Engineering or Data Processing Pipelines.\n",
    "* Run Ad Hoc queries on top of data stored in storage systems such as HDFS, s3, Azure Blob etc.\n",
    "* Connect BI tools such as Tableau, Power BI etc and run reports.\n",
    "\n",
    "You can sign up for our [10 node state of the art cluster/labs](https://labs.itversity.com/plans) to learn Spark SQL using our unique integrated LMS. You will be able to learn the same way as demonstrated."
   ]
  },
  {
   "cell_type": "markdown",
   "metadata": {},
   "source": [
    "## Course Details\n",
    "\n",
    "This course is primarily designed to go through SQL capabilities of Spark SQL. As part of this course you will be learning the following topics.\n",
    "\n",
    "* Getting Started\n",
    "* Basic Transformations\n",
    "* Basic DDL and DML\n",
    "* DML (Contd) and Partitioning\n",
    "* Predefined Funtions\n",
    "* Windowing Functions"
   ]
  },
  {
   "cell_type": "markdown",
   "metadata": {},
   "source": [
    "## Desired Audience\n",
    "\n",
    "Here are the desired audience for this course.\n",
    "\n",
    "* Experienced application developers to understand key aspects of Spark SQL.\n",
    "* Data Engineers and Data Warehouse Developers to understand key aspects of Spark SQL to build batch or streaming pipelines.\n",
    "* Testers to improve their scripting abilities to validate data in the files, tables etc."
   ]
  },
  {
   "cell_type": "markdown",
   "metadata": {},
   "source": [
    "## Prerequisites\n",
    "\n",
    "Here are the prerequisites before signing up for the course.\n",
    "\n",
    "````{panels}\n",
    "**Logistics**\n",
    "\n",
    "* Computer with decent configuration\n",
    "  * At least 4 GB RAM\n",
    "  * 8 GB RAM is highly desired\n",
    "* Chrome Browser\n",
    "* High Speed Internet\n",
    "\n",
    "---\n",
    "\n",
    "**Desired Skills**\n",
    "\n",
    "* Engineering or Science Degree\n",
    "* Ability to use computer\n",
    "* Knowledge or working experience with databases is highly desired\n",
    "\n",
    "````"
   ]
  },
  {
   "cell_type": "code",
   "execution_count": null,
   "metadata": {},
   "outputs": [],
   "source": []
  }
 ],
 "metadata": {
  "kernelspec": {
   "display_name": "Python 3",
   "language": "python",
   "name": "python3"
  },
  "language_info": {
   "codemirror_mode": {
    "name": "ipython",
    "version": 3
   },
   "file_extension": ".py",
   "mimetype": "text/x-python",
   "name": "python",
   "nbconvert_exporter": "python",
   "pygments_lexer": "ipython3",
   "version": "3.6.8"
  }
 },
 "nbformat": 4,
 "nbformat_minor": 4
}
