{
 "cells": [
  {
   "cell_type": "markdown",
   "metadata": {},
   "source": [
    "## Overview of HDFS\n",
    "\n",
    "As part of this module we will be covering all important aspects of HDFS that are required for development. We have covered all the essentials for the development.\n",
    "* Using HDFS CLI\n",
    "* Getting Help or Usage\n",
    "* Listing HDFS Files\n",
    "* Managing HDFS Directories\n",
    "* Copying files from HDFS to Local\n",
    "* Copying files from HDFS to HDFS\n",
    "* Previewing data in HDFS Files\n",
    "* Getting File Metadata\n",
    "* HDFS Block Size\n",
    "* HDFS Replication Factor\n",
    "* Getting HDFS Storage Usage\n",
    "* Using HDFS Stat Commands\n",
    "* HDFS File Permissions\n",
    "* Overriding Properties"
   ]
  },
  {
   "cell_type": "code",
   "execution_count": null,
   "metadata": {},
   "outputs": [],
   "source": []
  }
 ],
 "metadata": {
  "kernelspec": {
   "display_name": "Python 3",
   "language": "python",
   "name": "python3"
  },
  "language_info": {
   "codemirror_mode": {
    "name": "ipython",
    "version": 3
   },
   "file_extension": ".py",
   "mimetype": "text/x-python",
   "name": "python",
   "nbconvert_exporter": "python",
   "pygments_lexer": "ipython3",
   "version": "3.6.12"
  }
 },
 "nbformat": 4,
 "nbformat_minor": 4
}
