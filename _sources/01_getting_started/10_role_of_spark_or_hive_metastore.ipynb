{
 "cells": [
  {
   "cell_type": "markdown",
   "metadata": {},
   "source": [
    "## Role of Spark or Hive Metastore\n",
    "\n",
    "Let us understand the role of Spark Metastore or Hive Metasore. We need to first understand details related to Metadata generated for Spark Metastore tables."
   ]
  },
  {
   "cell_type": "code",
   "execution_count": 11,
   "metadata": {
    "tags": [
     "remove-cell"
    ]
   },
   "outputs": [
    {
     "data": {
      "text/html": [
       "<iframe width=\"560\" height=\"315\" src=\"https://www.youtube.com/embed/MKzHiKgKHIY?rel=0&amp;controls=0&amp;showinfo=0\" frameborder=\"0\" allowfullscreen></iframe>"
      ]
     },
     "execution_count": 11,
     "metadata": {},
     "output_type": "execute_result"
    }
   ],
   "source": [
    "%%HTML\n",
    "<iframe width=\"560\" height=\"315\" src=\"https://www.youtube.com/embed/MKzHiKgKHIY?rel=0&amp;controls=1&amp;showinfo=0\" frameborder=\"0\" allowfullscreen></iframe>"
   ]
  },
  {
   "cell_type": "markdown",
   "metadata": {},
   "source": [
    "* When we create a Spark Metastore table, there is metadata associated with it.\n",
    "  * Table Name\n",
    "  * Column Names and Data Types\n",
    "  * Location\n",
    "  * File Format\n",
    "  * and more\n",
    "* This metadata has to be stored some where so that Query Engines such as Spark SQL can access the information to serve our queries.\n",
    "\n",
    "Let us understand where the metadata is stored.\n",
    "\n",
    "* Information is typically stored in relational database and it is called as metastore.\n",
    "* It is extensively used by Hive or Spark SQL engine for syntax and semantics check as well as execution of queries.\n",
    "* In our case it is stored in MySQL Database. Let us review the details by going through relevant properties."
   ]
  }
 ],
 "metadata": {
  "celltoolbar": "Tags",
  "kernelspec": {
   "display_name": "Apache Toree - Scala",
   "language": "scala",
   "name": "apache_toree_scala"
  },
  "language_info": {
   "codemirror_mode": "text/x-scala",
   "file_extension": ".scala",
   "mimetype": "text/x-scala",
   "name": "scala",
   "pygments_lexer": "scala",
   "version": "2.11.12"
  }
 },
 "nbformat": 4,
 "nbformat_minor": 4
}
