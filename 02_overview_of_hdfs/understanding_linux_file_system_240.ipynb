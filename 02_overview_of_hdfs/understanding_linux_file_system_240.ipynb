{
 "cells": [
  {
   "cell_type": "markdown",
   "metadata": {},
   "source": [
    "## Understanding Linux File System\n",
    "\n",
    "Let us get quick overview of Linux File System.\n",
    "* All the public data sets are under `/data`.\n",
    "* Users have read only access on them.\n",
    "* We will go through some of the important commands to understand how we typically manage files using Linux.\n",
    "  * `ls` - list the files.\n",
    "  * `mkdir` - to create empty directory.\n",
    "  * `cp` - to copy files.\n",
    "  * `rm` - to delete the files or directories.\n",
    "* All these commands deal with local files on Linux. We need to use `hdfs dfs` or `hadoop fs` to deal with files in HDFS."
   ]
  },
  {
   "cell_type": "code",
   "execution_count": null,
   "metadata": {},
   "outputs": [],
   "source": [
    "%%sh\n",
    "\n",
    "uname -a"
   ]
  },
  {
   "cell_type": "markdown",
   "metadata": {},
   "source": [
    "* We can access files in Linux File System using `ls` command. Also the file system starts with `/`. It is also called as root file system. By default files and folders will be alphabetically sorted.\n",
    "```{note}\n",
    "In Windows, the local file system starts with C:\\ (C Drive), D:\\ (D Drive) etc. \n",
    "```"
   ]
  },
  {
   "cell_type": "code",
   "execution_count": null,
   "metadata": {},
   "outputs": [],
   "source": [
    "%%sh\n",
    "\n",
    "ls /"
   ]
  },
  {
   "cell_type": "markdown",
   "metadata": {},
   "source": [
    "* We typically use `ls -ltr` to get the list of files and directories along with their properties.\n",
    "  * `l` for listing properties.\n",
    "  * `t` for sorting files and folders based up on time. By default latest files comes on top.\n",
    "  * `r` to reverse the sorting order.\n",
    "* `ls -ltr` will provide the list of files and directories sorted by time where latest files comes at the end."
   ]
  },
  {
   "cell_type": "code",
   "execution_count": null,
   "metadata": {},
   "outputs": [],
   "source": [
    "%%sh\n",
    "\n",
    "ls -ltr /"
   ]
  },
  {
   "cell_type": "code",
   "execution_count": null,
   "metadata": {},
   "outputs": [],
   "source": [
    "%%sh\n",
    "\n",
    "ls -ltr /data"
   ]
  },
  {
   "cell_type": "markdown",
   "metadata": {},
   "source": [
    "* You will have read only access to these local files. As demonstrated below only owner (root) have write access to **retail_db** folder where as others have read and execute permissions only."
   ]
  },
  {
   "cell_type": "code",
   "execution_count": null,
   "metadata": {},
   "outputs": [],
   "source": [
    "%%sh\n",
    "\n",
    "ls -ltr /data/retail_db"
   ]
  },
  {
   "cell_type": "markdown",
   "metadata": {},
   "source": [
    "* You can copy them to your user space with in HDFS. It will be **/user/YOUR_LOGIN_USER**.\n",
    "* You can determine your home directory on linux file system as well as your user space with in HDFS. You can run `echo $HOME` to get details about your home directory on linux file system. It is same as `/home/$USER`."
   ]
  },
  {
   "cell_type": "code",
   "execution_count": null,
   "metadata": {},
   "outputs": [],
   "source": [
    "%%sh\n",
    "\n",
    "echo $HOME"
   ]
  },
  {
   "cell_type": "markdown",
   "metadata": {},
   "source": [
    "* You can also copy these files to your home directory on linux file system using `cp` with options `r` and `f`.\n",
    "* It will take care of recursively copying folder `/data/retail_db` to `/user/${USER}/retail_db`"
   ]
  },
  {
   "cell_type": "code",
   "execution_count": null,
   "metadata": {},
   "outputs": [],
   "source": [
    "%%sh\n",
    "\n",
    "rm -rf /home/${USER}/retail_db"
   ]
  },
  {
   "cell_type": "code",
   "execution_count": null,
   "metadata": {},
   "outputs": [],
   "source": [
    "%%sh\n",
    "\n",
    "ls -ltr /home/${USER}/retail_db"
   ]
  },
  {
   "cell_type": "code",
   "execution_count": null,
   "metadata": {},
   "outputs": [],
   "source": [
    "%%sh\n",
    "\n",
    "cp -rf /data/retail_db /home/${USER}"
   ]
  },
  {
   "cell_type": "code",
   "execution_count": null,
   "metadata": {},
   "outputs": [],
   "source": [
    "%%sh\n",
    "\n",
    "ls -ltr /home/${USER}/retail_db"
   ]
  },
  {
   "cell_type": "markdown",
   "metadata": {},
   "source": [
    "* We can also delete the folder `/user/${USER}/retail_db` recursively using `rm -rf`."
   ]
  },
  {
   "cell_type": "code",
   "execution_count": null,
   "metadata": {},
   "outputs": [],
   "source": [
    "%%sh\n",
    "\n",
    "rm -rf /home/${USER}/retail_db"
   ]
  },
  {
   "cell_type": "code",
   "execution_count": null,
   "metadata": {},
   "outputs": [],
   "source": []
  }
 ],
 "metadata": {
  "kernelspec": {
   "display_name": "Python 3",
   "language": "python",
   "name": "python3"
  },
  "language_info": {
   "codemirror_mode": {
    "name": "ipython",
    "version": 3
   },
   "file_extension": ".py",
   "mimetype": "text/x-python",
   "name": "python",
   "nbconvert_exporter": "python",
   "pygments_lexer": "ipython3",
   "version": "3.6.12"
  }
 },
 "nbformat": 4,
 "nbformat_minor": 4
}
