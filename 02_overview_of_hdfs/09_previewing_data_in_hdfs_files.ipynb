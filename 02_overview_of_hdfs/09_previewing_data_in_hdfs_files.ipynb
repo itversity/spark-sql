{
 "cells": [
  {
   "cell_type": "markdown",
   "metadata": {},
   "source": [
    "## Previewing data in HDFS Files\n",
    "\n",
    "Let us see how we can preview the data in HDFS.\n",
    "\n",
    "* If we are dealing with files contain text data (files of text file format), we can preview contents of the files using different commands as `-tail`, `-cat` etc.\n",
    "* `-tail` can be used to preview last 1 KB of the file\n",
    "* `-cat` can be used to print the whole contents of the file on the screen. Be careful while using `-cat` as it will take a while for even medium sized files.\n",
    "* If you want to get first few lines from file you can redirect output of `hadoop fs -cat` or `hdfs dfs -cat` to Linux `more` command"
   ]
  },
  {
   "cell_type": "code",
   "execution_count": null,
   "metadata": {},
   "outputs": [],
   "source": [
    "%%sh\n",
    "\n",
    "hdfs dfs -ls /user/${USER}/retail_db"
   ]
  },
  {
   "cell_type": "code",
   "execution_count": null,
   "metadata": {},
   "outputs": [],
   "source": [
    "%%sh\n",
    "\n",
    "hdfs dfs -put /data/retail_db /user/${USER}/"
   ]
  },
  {
   "cell_type": "code",
   "execution_count": null,
   "metadata": {},
   "outputs": [],
   "source": [
    "%%sh\n",
    "\n",
    "hdfs dfs -help tail"
   ]
  },
  {
   "cell_type": "code",
   "execution_count": null,
   "metadata": {},
   "outputs": [],
   "source": [
    "%%sh\n",
    "\n",
    "hdfs dfs -tail /user/${USER}/retail_db/orders/part-00000"
   ]
  },
  {
   "cell_type": "code",
   "execution_count": null,
   "metadata": {},
   "outputs": [],
   "source": [
    "%%sh\n",
    "\n",
    "hdfs dfs -cat /user/${USER}/retail_db/departments/part-00000"
   ]
  },
  {
   "cell_type": "markdown",
   "metadata": {},
   "source": [
    "* You can run the following command using terminal or CLI to see first few lines in a file.\n",
    "\n",
    "```shell\n",
    "hdfs dfs -cat /user/${USER}/retail_db/orders/part-00000|more\n",
    "```"
   ]
  },
  {
   "cell_type": "code",
   "execution_count": null,
   "metadata": {},
   "outputs": [],
   "source": []
  }
 ],
 "metadata": {
  "kernelspec": {
   "display_name": "Python 3",
   "language": "python",
   "name": "python3"
  },
  "language_info": {
   "codemirror_mode": {
    "name": "ipython",
    "version": 3
   },
   "file_extension": ".py",
   "mimetype": "text/x-python",
   "name": "python",
   "nbconvert_exporter": "python",
   "pygments_lexer": "ipython3",
   "version": "3.6.8"
  }
 },
 "nbformat": 4,
 "nbformat_minor": 4
}
