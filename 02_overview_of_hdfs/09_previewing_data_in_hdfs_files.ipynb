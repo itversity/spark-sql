{
 "cells": [
  {
   "cell_type": "markdown",
   "metadata": {},
   "source": [
    "## Previewing data in HDFS Files\n",
    "\n",
    "Let us see how we can preview the data in HDFS."
   ]
  },
  {
   "cell_type": "code",
   "execution_count": null,
   "metadata": {
    "tags": [
     "remove-cell"
    ]
   },
   "outputs": [],
   "source": [
    "%%HTML\n",
    "<iframe width=\"560\" height=\"315\" src=\"https://www.youtube.com/embed/8ge2_R9XVF4?rel=0&amp;controls=1&amp;showinfo=0\" frameborder=\"0\" allowfullscreen></iframe>"
   ]
  },
  {
   "cell_type": "markdown",
   "metadata": {},
   "source": [
    "* If we are dealing with files contain text data (files of text file format), we can preview contents of the files using different commands as `-tail`, `-cat` etc.\n",
    "* `-tail` can be used to preview last 1 KB of the file\n",
    "* `-cat` can be used to print the whole contents of the file on the screen. Be careful while using `-cat` as it will take a while for even medium sized files.\n",
    "* If you want to get first few lines from file you can redirect output of `hadoop fs -cat` or `hdfs dfs -cat` to Linux `more` command"
   ]
  },
  {
   "cell_type": "code",
   "execution_count": 1,
   "metadata": {},
   "outputs": [
    {
     "name": "stdout",
     "output_type": "stream",
     "text": [
      "Found 6 items\n",
      "drwxr-xr-x   - itversity students          0 2021-01-17 20:05 /user/itversity/retail_db/categories\n",
      "drwxr-xr-x   - itversity students          0 2021-01-17 20:05 /user/itversity/retail_db/customers\n",
      "drwxr-xr-x   - itversity students          0 2021-01-17 20:04 /user/itversity/retail_db/departments\n",
      "drwxr-xr-x   - itversity students          0 2021-01-17 20:03 /user/itversity/retail_db/order_items\n",
      "drwxr-xr-x   - itversity students          0 2021-01-17 20:03 /user/itversity/retail_db/orders\n",
      "drwxr-xr-x   - itversity students          0 2021-01-17 20:04 /user/itversity/retail_db/products\n"
     ]
    }
   ],
   "source": [
    "%%sh\n",
    "\n",
    "hdfs dfs -ls /user/${USER}/retail_db"
   ]
  },
  {
   "cell_type": "code",
   "execution_count": 2,
   "metadata": {},
   "outputs": [
    {
     "name": "stdout",
     "output_type": "stream",
     "text": [
      "drwxr-xr-x   - itversity students          0 2021-01-17 20:05 /user/itversity/retail_db/categories\n",
      "-rw-r--r--   2 itversity students       1029 2021-01-17 20:05 /user/itversity/retail_db/categories/part-00000\n",
      "drwxr-xr-x   - itversity students          0 2021-01-17 20:05 /user/itversity/retail_db/customers\n",
      "-rw-r--r--   2 itversity students     953719 2021-01-17 20:05 /user/itversity/retail_db/customers/part-00000\n",
      "drwxr-xr-x   - itversity students          0 2021-01-17 20:04 /user/itversity/retail_db/departments\n",
      "-rw-r--r--   2 itversity students         60 2021-01-17 20:04 /user/itversity/retail_db/departments/part-00000\n",
      "drwxr-xr-x   - itversity students          0 2021-01-17 20:03 /user/itversity/retail_db/order_items\n",
      "-rw-r--r--   2 itversity students    5408880 2021-01-17 20:03 /user/itversity/retail_db/order_items/part-00000\n",
      "drwxr-xr-x   - itversity students          0 2021-01-17 20:03 /user/itversity/retail_db/orders\n",
      "-rw-r--r--   2 itversity students    2999944 2021-01-17 20:03 /user/itversity/retail_db/orders/part-00000\n",
      "drwxr-xr-x   - itversity students          0 2021-01-17 20:04 /user/itversity/retail_db/products\n",
      "-rw-r--r--   2 itversity students     174155 2021-01-17 20:04 /user/itversity/retail_db/products/part-00000\n"
     ]
    }
   ],
   "source": [
    "%%sh\n",
    "\n",
    "hdfs dfs -ls -R /user/${USER}/retail_db"
   ]
  },
  {
   "cell_type": "code",
   "execution_count": 3,
   "metadata": {},
   "outputs": [],
   "source": [
    "%%sh\n",
    "\n",
    "hdfs dfs -put -f /data/retail_db /user/${USER}/"
   ]
  },
  {
   "cell_type": "code",
   "execution_count": 4,
   "metadata": {},
   "outputs": [
    {
     "name": "stdout",
     "output_type": "stream",
     "text": [
      "-tail [-f] <file> :\n",
      "  Show the last 1KB of the file.\n",
      "                                             \n",
      "  -f  Shows appended data as the file grows. \n"
     ]
    }
   ],
   "source": [
    "%%sh\n",
    "\n",
    "hdfs dfs -help tail"
   ]
  },
  {
   "cell_type": "code",
   "execution_count": 5,
   "metadata": {},
   "outputs": [
    {
     "name": "stdout",
     "output_type": "stream",
     "text": [
      "014-06-12 00:00:00.0,4229,PENDING\n",
      "68861,2014-06-13 00:00:00.0,3031,PENDING_PAYMENT\n",
      "68862,2014-06-15 00:00:00.0,7326,PROCESSING\n",
      "68863,2014-06-16 00:00:00.0,3361,CLOSED\n",
      "68864,2014-06-18 00:00:00.0,9634,ON_HOLD\n",
      "68865,2014-06-19 00:00:00.0,4567,SUSPECTED_FRAUD\n",
      "68866,2014-06-20 00:00:00.0,3890,PENDING_PAYMENT\n",
      "68867,2014-06-23 00:00:00.0,869,CANCELED\n",
      "68868,2014-06-24 00:00:00.0,10184,PENDING\n",
      "68869,2014-06-25 00:00:00.0,7456,PROCESSING\n",
      "68870,2014-06-26 00:00:00.0,3343,COMPLETE\n",
      "68871,2014-06-28 00:00:00.0,4960,PENDING\n",
      "68872,2014-06-29 00:00:00.0,3354,COMPLETE\n",
      "68873,2014-06-30 00:00:00.0,4545,PENDING\n",
      "68874,2014-07-03 00:00:00.0,1601,COMPLETE\n",
      "68875,2014-07-04 00:00:00.0,10637,ON_HOLD\n",
      "68876,2014-07-06 00:00:00.0,4124,COMPLETE\n",
      "68877,2014-07-07 00:00:00.0,9692,ON_HOLD\n",
      "68878,2014-07-08 00:00:00.0,6753,COMPLETE\n",
      "68879,2014-07-09 00:00:00.0,778,COMPLETE\n",
      "68880,2014-07-13 00:00:00.0,1117,COMPLETE\n",
      "68881,2014-07-19 00:00:00.0,2518,PENDING_PAYMENT\n",
      "68882,2014-07-22 00:00:00.0,10000,ON_HOLD\n",
      "68883,2014-07-23 00:00:00.0,5533,COMPLETE\n"
     ]
    }
   ],
   "source": [
    "%%sh\n",
    "\n",
    "hdfs dfs -tail /user/${USER}/retail_db/orders/part-00000"
   ]
  },
  {
   "cell_type": "code",
   "execution_count": 7,
   "metadata": {},
   "outputs": [
    {
     "name": "stdout",
     "output_type": "stream",
     "text": [
      "-cat [-ignoreCrc] <src> ... :\n",
      "  Fetch all files that match the file pattern <src> and display their content on\n",
      "  stdout.\n"
     ]
    }
   ],
   "source": [
    "%%sh\n",
    "\n",
    "hdfs dfs -help cat"
   ]
  },
  {
   "cell_type": "code",
   "execution_count": 8,
   "metadata": {},
   "outputs": [
    {
     "name": "stdout",
     "output_type": "stream",
     "text": [
      "2,Fitness\n",
      "3,Footwear\n",
      "4,Apparel\n",
      "5,Golf\n",
      "6,Outdoors\n",
      "7,Fan Shop\n"
     ]
    }
   ],
   "source": [
    "%%sh\n",
    "\n",
    "hdfs dfs -cat /user/${USER}/retail_db/departments/part-*"
   ]
  },
  {
   "cell_type": "markdown",
   "metadata": {},
   "source": [
    "* You can run the following command using terminal or CLI to see first few lines in a file.\n",
    "\n",
    "```shell\n",
    "hdfs dfs -cat /user/${USER}/retail_db/orders/part-00000|more\n",
    "```"
   ]
  },
  {
   "cell_type": "code",
   "execution_count": null,
   "metadata": {},
   "outputs": [],
   "source": []
  }
 ],
 "metadata": {
  "kernelspec": {
   "display_name": "Python 3",
   "language": "python",
   "name": "python3"
  },
  "language_info": {
   "codemirror_mode": {
    "name": "ipython",
    "version": 3
   },
   "file_extension": ".py",
   "mimetype": "text/x-python",
   "name": "python",
   "nbconvert_exporter": "python",
   "pygments_lexer": "ipython3",
   "version": "3.6.12"
  }
 },
 "nbformat": 4,
 "nbformat_minor": 4
}
