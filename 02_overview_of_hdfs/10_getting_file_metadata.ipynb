{
 "cells": [
  {
   "cell_type": "markdown",
   "metadata": {},
   "source": [
    "## Getting File Metadata\n",
    "\n",
    "Let us see how to get metadata for the  files stored in HDFS using `hdfs fsck` command. "
   ]
  },
  {
   "cell_type": "code",
   "execution_count": null,
   "metadata": {
    "tags": [
     "remove-cell"
    ]
   },
   "outputs": [],
   "source": [
    "%%HTML\n",
    "<iframe width=\"560\" height=\"315\" src=\"https://www.youtube.com/embed/9uejqoM6eTY?rel=0&amp;controls=1&amp;showinfo=0\" frameborder=\"0\" allowfullscreen></iframe>"
   ]
  },
  {
   "cell_type": "markdown",
   "metadata": {},
   "source": [
    "* We have files copied under HDFS location `/user/${USER}/retail_db`. We also have some sample large files copied under HDFS location `/public/randomtextwriter`. We can use `hdfs fsck` command.\n",
    "* We will first see how to get metadata of these files and then try to interpret it in subsequent topics.\n",
    "* HDFS stands for Hadoop Distributed File System. It means files are copied in distributed fashion.\n",
    "* Our cluster have master nodes and worker nodes, in this case the files will be physically copied in the worker nodes where data node process is running. We will cover this as part of the HDFS architecture.\n",
    "* Here are the details about worker nodes along with corresponding private ips.\n",
    "\n",
    "|Private ip|Full DNS|Short DNS|\n",
    "|---|---|---|\n",
    "|172.16.1.102|wn01.itversity.com|wn01|\n",
    "|172.16.1.103|wn02.itversity.com|wn02|\n",
    "|172.16.1.104|wn03.itversity.com|wn03|\n",
    "|172.16.1.107|wn04.itversity.com|wn04|\n",
    "|172.16.1.108|wn05.itversity.com|wn05|"
   ]
  },
  {
   "cell_type": "code",
   "execution_count": 2,
   "metadata": {},
   "outputs": [
    {
     "name": "stdout",
     "output_type": "stream",
     "text": [
      "Usage: hdfs fsck <path> [-list-corruptfileblocks | [-move | -delete | -openforwrite] [-files [-blocks [-locations | -racks]]]] [-includeSnapshots] [-storagepolicies] [-blockId <blk_Id>]\n",
      "\t<path>\tstart checking from this path\n",
      "\t-move\tmove corrupted files to /lost+found\n",
      "\t-delete\tdelete corrupted files\n",
      "\t-files\tprint out files being checked\n",
      "\t-openforwrite\tprint out files opened for write\n",
      "\t-includeSnapshots\tinclude snapshot data if the given path indicates a snapshottable directory or there are snapshottable directories under it\n",
      "\t-list-corruptfileblocks\tprint out list of missing blocks and files they belong to\n",
      "\t-blocks\tprint out block report\n",
      "\t-locations\tprint out locations for every block\n",
      "\t-racks\tprint out network topology for data-node locations\n",
      "\t-storagepolicies\tprint out storage policy summary for the blocks\n",
      "\t-blockId\tprint out which file this blockId belongs to, locations (nodes, racks) of this block, and other diagnostics info (under replicated, corrupted or not, etc)\n",
      "\t-replicaDetails\tprint out each replica details \n",
      "\n",
      "Please Note:\n",
      "\t1. By default fsck ignores files opened for write, use -openforwrite to report such files. They are usually  tagged CORRUPT or HEALTHY depending on their block allocation status\n",
      "\t2. Option -includeSnapshots should not be used for comparing stats, should be used only for HEALTH check, as this may contain duplicates if the same file present in both original fs tree and inside snapshots.\n",
      "\n",
      "Generic options supported are\n",
      "-conf <configuration file>     specify an application configuration file\n",
      "-D <property=value>            use value for given property\n",
      "-fs <local|namenode:port>      specify a namenode\n",
      "-jt <local|resourcemanager:port>    specify a ResourceManager\n",
      "-files <comma separated list of files>    specify comma separated files to be copied to the map reduce cluster\n",
      "-libjars <comma separated list of jars>    specify comma separated jar files to include in the classpath.\n",
      "-archives <comma separated list of archives>    specify comma separated archives to be unarchived on the compute machines.\n",
      "\n",
      "The general command line syntax is\n",
      "bin/hadoop command [genericOptions] [commandOptions]\n",
      "\n"
     ]
    }
   ],
   "source": [
    "%%sh\n",
    "\n",
    "hdfs fsck -help"
   ]
  },
  {
   "cell_type": "markdown",
   "metadata": {},
   "source": [
    "* We can get high level overview for a retail_db folder by using `hdfs fsck retail_db`"
   ]
  },
  {
   "cell_type": "code",
   "execution_count": 3,
   "metadata": {},
   "outputs": [
    {
     "name": "stdout",
     "output_type": "stream",
     "text": [
      "FSCK started by itversity (auth:SIMPLE) from /172.16.1.114 for path /user/itversity/retail_db at Thu Jan 21 05:34:39 EST 2021\n",
      "......Status: HEALTHY\n",
      " Total size:\t9537787 B\n",
      " Total dirs:\t7\n",
      " Total files:\t6\n",
      " Total symlinks:\t\t0\n",
      " Total blocks (validated):\t6 (avg. block size 1589631 B)\n",
      " Minimally replicated blocks:\t6 (100.0 %)\n",
      " Over-replicated blocks:\t0 (0.0 %)\n",
      " Under-replicated blocks:\t0 (0.0 %)\n",
      " Mis-replicated blocks:\t\t0 (0.0 %)\n",
      " Default replication factor:\t2\n",
      " Average block replication:\t2.0\n",
      " Corrupt blocks:\t\t0\n",
      " Missing replicas:\t\t0 (0.0 %)\n",
      " Number of data-nodes:\t\t5\n",
      " Number of racks:\t\t1\n",
      "FSCK ended at Thu Jan 21 05:34:39 EST 2021 in 1 milliseconds\n",
      "\n",
      "\n",
      "The filesystem under path '/user/itversity/retail_db' is HEALTHY\n"
     ]
    },
    {
     "name": "stderr",
     "output_type": "stream",
     "text": [
      "Connecting to namenode via http://172.16.1.101:50070/fsck?ugi=itversity&path=%2Fuser%2Fitversity%2Fretail_db\n"
     ]
    }
   ],
   "source": [
    "%%sh\n",
    "\n",
    "hdfs fsck /user/${USER}/retail_db"
   ]
  },
  {
   "cell_type": "markdown",
   "metadata": {},
   "source": [
    "* We can get details about file names using `-files` option."
   ]
  },
  {
   "cell_type": "code",
   "execution_count": 4,
   "metadata": {},
   "outputs": [
    {
     "name": "stdout",
     "output_type": "stream",
     "text": [
      "FSCK started by itversity (auth:SIMPLE) from /172.16.1.114 for path /user/itversity/retail_db at Thu Jan 21 05:35:17 EST 2021\n",
      "/user/itversity/retail_db <dir>\n",
      "/user/itversity/retail_db/categories <dir>\n",
      "/user/itversity/retail_db/categories/part-00000 1029 bytes, 1 block(s):  OK\n",
      "/user/itversity/retail_db/customers <dir>\n",
      "/user/itversity/retail_db/customers/part-00000 953719 bytes, 1 block(s):  OK\n",
      "/user/itversity/retail_db/departments <dir>\n",
      "/user/itversity/retail_db/departments/part-00000 60 bytes, 1 block(s):  OK\n",
      "/user/itversity/retail_db/order_items <dir>\n",
      "/user/itversity/retail_db/order_items/part-00000 5408880 bytes, 1 block(s):  OK\n",
      "/user/itversity/retail_db/orders <dir>\n",
      "/user/itversity/retail_db/orders/part-00000 2999944 bytes, 1 block(s):  OK\n",
      "/user/itversity/retail_db/products <dir>\n",
      "/user/itversity/retail_db/products/part-00000 174155 bytes, 1 block(s):  OK\n",
      "Status: HEALTHY\n",
      " Total size:\t9537787 B\n",
      " Total dirs:\t7\n",
      " Total files:\t6\n",
      " Total symlinks:\t\t0\n",
      " Total blocks (validated):\t6 (avg. block size 1589631 B)\n",
      " Minimally replicated blocks:\t6 (100.0 %)\n",
      " Over-replicated blocks:\t0 (0.0 %)\n",
      " Under-replicated blocks:\t0 (0.0 %)\n",
      " Mis-replicated blocks:\t\t0 (0.0 %)\n",
      " Default replication factor:\t2\n",
      " Average block replication:\t2.0\n",
      " Corrupt blocks:\t\t0\n",
      " Missing replicas:\t\t0 (0.0 %)\n",
      " Number of data-nodes:\t\t5\n",
      " Number of racks:\t\t1\n",
      "FSCK ended at Thu Jan 21 05:35:17 EST 2021 in 1 milliseconds\n",
      "\n",
      "\n",
      "The filesystem under path '/user/itversity/retail_db' is HEALTHY\n"
     ]
    },
    {
     "name": "stderr",
     "output_type": "stream",
     "text": [
      "Connecting to namenode via http://172.16.1.101:50070/fsck?ugi=itversity&files=1&path=%2Fuser%2Fitversity%2Fretail_db\n"
     ]
    }
   ],
   "source": [
    "%%sh\n",
    "\n",
    "hdfs fsck /user/${USER}/retail_db -files"
   ]
  },
  {
   "cell_type": "markdown",
   "metadata": {},
   "source": [
    "* Files in HDFS will be physically stored in worker nodes as blocks. We can get details of blocks associated with files using `-blocks` option."
   ]
  },
  {
   "cell_type": "code",
   "execution_count": 5,
   "metadata": {},
   "outputs": [
    {
     "name": "stdout",
     "output_type": "stream",
     "text": [
      "FSCK started by itversity (auth:SIMPLE) from /172.16.1.114 for path /user/itversity/retail_db at Thu Jan 21 05:36:09 EST 2021\n",
      "/user/itversity/retail_db <dir>\n",
      "/user/itversity/retail_db/categories <dir>\n",
      "/user/itversity/retail_db/categories/part-00000 1029 bytes, 1 block(s):  OK\n",
      "0. BP-292116404-172.16.1.101-1479167821718:blk_1115455898_41737435 len=1029 repl=2\n",
      "\n",
      "/user/itversity/retail_db/customers <dir>\n",
      "/user/itversity/retail_db/customers/part-00000 953719 bytes, 1 block(s):  OK\n",
      "0. BP-292116404-172.16.1.101-1479167821718:blk_1115455899_41737436 len=953719 repl=2\n",
      "\n",
      "/user/itversity/retail_db/departments <dir>\n",
      "/user/itversity/retail_db/departments/part-00000 60 bytes, 1 block(s):  OK\n",
      "0. BP-292116404-172.16.1.101-1479167821718:blk_1115455900_41737437 len=60 repl=2\n",
      "\n",
      "/user/itversity/retail_db/order_items <dir>\n",
      "/user/itversity/retail_db/order_items/part-00000 5408880 bytes, 1 block(s):  OK\n",
      "0. BP-292116404-172.16.1.101-1479167821718:blk_1115455901_41737438 len=5408880 repl=2\n",
      "\n",
      "/user/itversity/retail_db/orders <dir>\n",
      "/user/itversity/retail_db/orders/part-00000 2999944 bytes, 1 block(s):  OK\n",
      "0. BP-292116404-172.16.1.101-1479167821718:blk_1115455902_41737439 len=2999944 repl=2\n",
      "\n",
      "/user/itversity/retail_db/products <dir>\n",
      "/user/itversity/retail_db/products/part-00000 174155 bytes, 1 block(s):  OK\n",
      "0. BP-292116404-172.16.1.101-1479167821718:blk_1115455903_41737440 len=174155 repl=2\n",
      "\n",
      "Status: HEALTHY\n",
      " Total size:\t9537787 B\n",
      " Total dirs:\t7\n",
      " Total files:\t6\n",
      " Total symlinks:\t\t0\n",
      " Total blocks (validated):\t6 (avg. block size 1589631 B)\n",
      " Minimally replicated blocks:\t6 (100.0 %)\n",
      " Over-replicated blocks:\t0 (0.0 %)\n",
      " Under-replicated blocks:\t0 (0.0 %)\n",
      " Mis-replicated blocks:\t\t0 (0.0 %)\n",
      " Default replication factor:\t2\n",
      " Average block replication:\t2.0\n",
      " Corrupt blocks:\t\t0\n",
      " Missing replicas:\t\t0 (0.0 %)\n",
      " Number of data-nodes:\t\t5\n",
      " Number of racks:\t\t1\n",
      "FSCK ended at Thu Jan 21 05:36:09 EST 2021 in 1 milliseconds\n",
      "\n",
      "\n",
      "The filesystem under path '/user/itversity/retail_db' is HEALTHY\n"
     ]
    },
    {
     "name": "stderr",
     "output_type": "stream",
     "text": [
      "Connecting to namenode via http://172.16.1.101:50070/fsck?ugi=itversity&files=1&blocks=1&path=%2Fuser%2Fitversity%2Fretail_db\n"
     ]
    }
   ],
   "source": [
    "%%sh\n",
    "\n",
    "hdfs fsck /user/${USER}/retail_db -files -blocks"
   ]
  },
  {
   "cell_type": "markdown",
   "metadata": {},
   "source": [
    "* `-blocks` will only provide details about the names of the blocks, we need to use `-locations` as well to get the details about the worker nodes where the blocks are physically stored.\n",
    "* A block is nothing but a physical file in HDFS. We will understand more about blocks as part of the subsequent topics.\n",
    "* To understand where a block is physically stored you can get the infromation from **DatanodeInfoWithStorage** part of the output. It will contain ip address and we can get the corresponding DNS from the above table."
   ]
  },
  {
   "cell_type": "code",
   "execution_count": 6,
   "metadata": {},
   "outputs": [
    {
     "name": "stdout",
     "output_type": "stream",
     "text": [
      "FSCK started by itversity (auth:SIMPLE) from /172.16.1.114 for path /user/itversity/retail_db at Thu Jan 21 05:38:08 EST 2021\n",
      "/user/itversity/retail_db <dir>\n",
      "/user/itversity/retail_db/categories <dir>\n",
      "/user/itversity/retail_db/categories/part-00000 1029 bytes, 1 block(s):  OK\n",
      "0. BP-292116404-172.16.1.101-1479167821718:blk_1115455898_41737435 len=1029 repl=2 [DatanodeInfoWithStorage[172.16.1.108:50010,DS-698dde50-a336-4e00-bc8f-a9e1a5cc76f4,DISK], DatanodeInfoWithStorage[172.16.1.103:50010,DS-7fb58858-abe9-4a52-9b75-755d849a897b,DISK]]\n",
      "\n",
      "/user/itversity/retail_db/customers <dir>\n",
      "/user/itversity/retail_db/customers/part-00000 953719 bytes, 1 block(s):  OK\n",
      "0. BP-292116404-172.16.1.101-1479167821718:blk_1115455899_41737436 len=953719 repl=2 [DatanodeInfoWithStorage[172.16.1.102:50010,DS-b0f1636e-fd08-4ddb-bba9-9df8868dfb5d,DISK], DatanodeInfoWithStorage[172.16.1.104:50010,DS-98fec5a6-72a9-4590-99cc-cee3a51f4dd5,DISK]]\n",
      "\n",
      "/user/itversity/retail_db/departments <dir>\n",
      "/user/itversity/retail_db/departments/part-00000 60 bytes, 1 block(s):  OK\n",
      "0. BP-292116404-172.16.1.101-1479167821718:blk_1115455900_41737437 len=60 repl=2 [DatanodeInfoWithStorage[172.16.1.104:50010,DS-f4667aac-0f2c-463c-9584-d625928b9af5,DISK], DatanodeInfoWithStorage[172.16.1.107:50010,DS-a12c4ae3-3f6a-42fc-83ff-7779a9fc0482,DISK]]\n",
      "\n",
      "/user/itversity/retail_db/order_items <dir>\n",
      "/user/itversity/retail_db/order_items/part-00000 5408880 bytes, 1 block(s):  OK\n",
      "0. BP-292116404-172.16.1.101-1479167821718:blk_1115455901_41737438 len=5408880 repl=2 [DatanodeInfoWithStorage[172.16.1.107:50010,DS-6679d10e-378c-4897-8c0e-250aa1af790a,DISK], DatanodeInfoWithStorage[172.16.1.103:50010,DS-1f4edfab-2926-45f9-a37c-ae9d1f542680,DISK]]\n",
      "\n",
      "/user/itversity/retail_db/orders <dir>\n",
      "/user/itversity/retail_db/orders/part-00000 2999944 bytes, 1 block(s):  OK\n",
      "0. BP-292116404-172.16.1.101-1479167821718:blk_1115455902_41737439 len=2999944 repl=2 [DatanodeInfoWithStorage[172.16.1.102:50010,DS-1edb1d35-81bf-471b-be04-11d973e2a832,DISK], DatanodeInfoWithStorage[172.16.1.108:50010,DS-736614f7-27de-46b8-987f-d669be6a32a3,DISK]]\n",
      "\n",
      "/user/itversity/retail_db/products <dir>\n",
      "/user/itversity/retail_db/products/part-00000 174155 bytes, 1 block(s):  OK\n",
      "0. BP-292116404-172.16.1.101-1479167821718:blk_1115455903_41737440 len=174155 repl=2 [DatanodeInfoWithStorage[172.16.1.108:50010,DS-698dde50-a336-4e00-bc8f-a9e1a5cc76f4,DISK], DatanodeInfoWithStorage[172.16.1.103:50010,DS-7fb58858-abe9-4a52-9b75-755d849a897b,DISK]]\n",
      "\n",
      "Status: HEALTHY\n",
      " Total size:\t9537787 B\n",
      " Total dirs:\t7\n",
      " Total files:\t6\n",
      " Total symlinks:\t\t0\n",
      " Total blocks (validated):\t6 (avg. block size 1589631 B)\n",
      " Minimally replicated blocks:\t6 (100.0 %)\n",
      " Over-replicated blocks:\t0 (0.0 %)\n",
      " Under-replicated blocks:\t0 (0.0 %)\n",
      " Mis-replicated blocks:\t\t0 (0.0 %)\n",
      " Default replication factor:\t2\n",
      " Average block replication:\t2.0\n",
      " Corrupt blocks:\t\t0\n",
      " Missing replicas:\t\t0 (0.0 %)\n",
      " Number of data-nodes:\t\t5\n",
      " Number of racks:\t\t1\n",
      "FSCK ended at Thu Jan 21 05:38:08 EST 2021 in 1 milliseconds\n",
      "\n",
      "\n",
      "The filesystem under path '/user/itversity/retail_db' is HEALTHY\n"
     ]
    },
    {
     "name": "stderr",
     "output_type": "stream",
     "text": [
      "Connecting to namenode via http://172.16.1.101:50070/fsck?ugi=itversity&files=1&blocks=1&locations=1&path=%2Fuser%2Fitversity%2Fretail_db\n"
     ]
    }
   ],
   "source": [
    "%%sh\n",
    "\n",
    "hdfs fsck /user/${USER}/retail_db -files -blocks -locations"
   ]
  },
  {
   "cell_type": "code",
   "execution_count": 8,
   "metadata": {},
   "outputs": [
    {
     "name": "stdout",
     "output_type": "stream",
     "text": [
      "-rw-r--r--   3 hdfs hdfs      1.0 G 2017-01-18 20:24 /public/randomtextwriter/part-m-00000\n"
     ]
    }
   ],
   "source": [
    "%%sh\n",
    "\n",
    "hdfs dfs -ls -h /public/randomtextwriter/part-m-00000"
   ]
  },
  {
   "cell_type": "code",
   "execution_count": 9,
   "metadata": {},
   "outputs": [
    {
     "name": "stdout",
     "output_type": "stream",
     "text": [
      "FSCK started by itversity (auth:SIMPLE) from /172.16.1.114 for path /public/randomtextwriter/part-m-00000 at Thu Jan 21 05:39:53 EST 2021\n",
      "/public/randomtextwriter/part-m-00000 1102230331 bytes, 9 block(s):  OK\n",
      "0. BP-292116404-172.16.1.101-1479167821718:blk_1074171511_431441 len=134217728 repl=3 [DatanodeInfoWithStorage[172.16.1.104:50010,DS-f4667aac-0f2c-463c-9584-d625928b9af5,DISK], DatanodeInfoWithStorage[172.16.1.102:50010,DS-b0f1636e-fd08-4ddb-bba9-9df8868dfb5d,DISK], DatanodeInfoWithStorage[172.16.1.103:50010,DS-1f4edfab-2926-45f9-a37c-ae9d1f542680,DISK]]\n",
      "1. BP-292116404-172.16.1.101-1479167821718:blk_1074171524_431454 len=134217728 repl=3 [DatanodeInfoWithStorage[172.16.1.104:50010,DS-f4667aac-0f2c-463c-9584-d625928b9af5,DISK], DatanodeInfoWithStorage[172.16.1.102:50010,DS-1edb1d35-81bf-471b-be04-11d973e2a832,DISK], DatanodeInfoWithStorage[172.16.1.103:50010,DS-1f4edfab-2926-45f9-a37c-ae9d1f542680,DISK]]\n",
      "2. BP-292116404-172.16.1.101-1479167821718:blk_1074171559_431489 len=134217728 repl=3 [DatanodeInfoWithStorage[172.16.1.104:50010,DS-f4667aac-0f2c-463c-9584-d625928b9af5,DISK], DatanodeInfoWithStorage[172.16.1.102:50010,DS-b0f1636e-fd08-4ddb-bba9-9df8868dfb5d,DISK], DatanodeInfoWithStorage[172.16.1.103:50010,DS-1f4edfab-2926-45f9-a37c-ae9d1f542680,DISK]]\n",
      "3. BP-292116404-172.16.1.101-1479167821718:blk_1074171609_431539 len=134217728 repl=3 [DatanodeInfoWithStorage[172.16.1.104:50010,DS-f4667aac-0f2c-463c-9584-d625928b9af5,DISK], DatanodeInfoWithStorage[172.16.1.102:50010,DS-b0f1636e-fd08-4ddb-bba9-9df8868dfb5d,DISK], DatanodeInfoWithStorage[172.16.1.103:50010,DS-7fb58858-abe9-4a52-9b75-755d849a897b,DISK]]\n",
      "4. BP-292116404-172.16.1.101-1479167821718:blk_1074171657_431587 len=134217728 repl=3 [DatanodeInfoWithStorage[172.16.1.104:50010,DS-f4667aac-0f2c-463c-9584-d625928b9af5,DISK], DatanodeInfoWithStorage[172.16.1.102:50010,DS-b0f1636e-fd08-4ddb-bba9-9df8868dfb5d,DISK], DatanodeInfoWithStorage[172.16.1.107:50010,DS-a12c4ae3-3f6a-42fc-83ff-7779a9fc0482,DISK]]\n",
      "5. BP-292116404-172.16.1.101-1479167821718:blk_1074171691_431621 len=134217728 repl=3 [DatanodeInfoWithStorage[172.16.1.104:50010,DS-f4667aac-0f2c-463c-9584-d625928b9af5,DISK], DatanodeInfoWithStorage[172.16.1.102:50010,DS-b0f1636e-fd08-4ddb-bba9-9df8868dfb5d,DISK], DatanodeInfoWithStorage[172.16.1.103:50010,DS-7fb58858-abe9-4a52-9b75-755d849a897b,DISK]]\n",
      "6. BP-292116404-172.16.1.101-1479167821718:blk_1074171721_431651 len=134217728 repl=3 [DatanodeInfoWithStorage[172.16.1.102:50010,DS-b0f1636e-fd08-4ddb-bba9-9df8868dfb5d,DISK], DatanodeInfoWithStorage[172.16.1.107:50010,DS-6679d10e-378c-4897-8c0e-250aa1af790a,DISK], DatanodeInfoWithStorage[172.16.1.108:50010,DS-736614f7-27de-46b8-987f-d669be6a32a3,DISK]]\n",
      "7. BP-292116404-172.16.1.101-1479167821718:blk_1074171731_431661 len=134217728 repl=3 [DatanodeInfoWithStorage[172.16.1.102:50010,DS-1edb1d35-81bf-471b-be04-11d973e2a832,DISK], DatanodeInfoWithStorage[172.16.1.107:50010,DS-a12c4ae3-3f6a-42fc-83ff-7779a9fc0482,DISK], DatanodeInfoWithStorage[172.16.1.108:50010,DS-698dde50-a336-4e00-bc8f-a9e1a5cc76f4,DISK]]\n",
      "8. BP-292116404-172.16.1.101-1479167821718:blk_1074171736_431666 len=28488507 repl=3 [DatanodeInfoWithStorage[172.16.1.104:50010,DS-f4667aac-0f2c-463c-9584-d625928b9af5,DISK], DatanodeInfoWithStorage[172.16.1.102:50010,DS-1edb1d35-81bf-471b-be04-11d973e2a832,DISK], DatanodeInfoWithStorage[172.16.1.107:50010,DS-6679d10e-378c-4897-8c0e-250aa1af790a,DISK]]\n",
      "\n",
      "Status: HEALTHY\n",
      " Total size:\t1102230331 B\n",
      " Total dirs:\t0\n",
      " Total files:\t1\n",
      " Total symlinks:\t\t0\n",
      " Total blocks (validated):\t9 (avg. block size 122470036 B)\n",
      " Minimally replicated blocks:\t9 (100.0 %)\n",
      " Over-replicated blocks:\t0 (0.0 %)\n",
      " Under-replicated blocks:\t0 (0.0 %)\n",
      " Mis-replicated blocks:\t\t0 (0.0 %)\n",
      " Default replication factor:\t2\n",
      " Average block replication:\t3.0\n",
      " Corrupt blocks:\t\t0\n",
      " Missing replicas:\t\t0 (0.0 %)\n",
      " Number of data-nodes:\t\t5\n",
      " Number of racks:\t\t1\n",
      "FSCK ended at Thu Jan 21 05:39:53 EST 2021 in 0 milliseconds\n",
      "\n",
      "\n",
      "The filesystem under path '/public/randomtextwriter/part-m-00000' is HEALTHY\n"
     ]
    },
    {
     "name": "stderr",
     "output_type": "stream",
     "text": [
      "Connecting to namenode via http://172.16.1.101:50070/fsck?ugi=itversity&files=1&blocks=1&locations=1&path=%2Fpublic%2Frandomtextwriter%2Fpart-m-00000\n"
     ]
    }
   ],
   "source": [
    "%%sh\n",
    "\n",
    "hdfs fsck /public/randomtextwriter/part-m-00000 -files -blocks -locations"
   ]
  },
  {
   "cell_type": "code",
   "execution_count": null,
   "metadata": {},
   "outputs": [],
   "source": []
  }
 ],
 "metadata": {
  "kernelspec": {
   "display_name": "Python 3",
   "language": "python",
   "name": "python3"
  },
  "language_info": {
   "codemirror_mode": {
    "name": "ipython",
    "version": 3
   },
   "file_extension": ".py",
   "mimetype": "text/x-python",
   "name": "python",
   "nbconvert_exporter": "python",
   "pygments_lexer": "ipython3",
   "version": "3.6.12"
  }
 },
 "nbformat": 4,
 "nbformat_minor": 4
}
