{
 "cells": [
  {
   "cell_type": "markdown",
   "metadata": {},
   "source": [
    "## Getting HDFS Storage Usage\n",
    "\n",
    "Let us get an overview of HDFS usage using `du` and `df` commands."
   ]
  },
  {
   "cell_type": "code",
   "execution_count": null,
   "metadata": {
    "tags": [
     "remove-cell"
    ]
   },
   "outputs": [],
   "source": [
    "%%HTML\n",
    "<iframe width=\"560\" height=\"315\" src=\"https://www.youtube.com/embed/_FrfVWtjvXU?rel=0&amp;controls=1&amp;showinfo=0\" frameborder=\"0\" allowfullscreen></iframe>"
   ]
  },
  {
   "cell_type": "markdown",
   "metadata": {},
   "source": [
    "* We can use `hdfs dfs -df` to get the current capacity and usage of HDFS.\n",
    "* We can use `hdfs dfs -du` to get the size occupied by a file or folder."
   ]
  },
  {
   "cell_type": "code",
   "execution_count": 1,
   "metadata": {},
   "outputs": [
    {
     "name": "stdout",
     "output_type": "stream",
     "text": [
      "-df [-h] [<path> ...] :\n",
      "  Shows the capacity, free and used space of the filesystem. If the filesystem has\n",
      "  multiple partitions, and no path to a particular partition is specified, then\n",
      "  the status of the root partitions will be shown.\n",
      "                                                                                 \n",
      "  -h  Formats the sizes of files in a human-readable fashion rather than a number\n",
      "      of bytes.                                                                  \n"
     ]
    }
   ],
   "source": [
    "%%sh\n",
    "\n",
    "hdfs dfs -help df"
   ]
  },
  {
   "cell_type": "code",
   "execution_count": 2,
   "metadata": {},
   "outputs": [
    {
     "name": "stdout",
     "output_type": "stream",
     "text": [
      "Filesystem                                Size           Used      Available  Use%\n",
      "hdfs://nn01.itversity.com:8020  18088946967552  7096522956949  9985130049852   39%\n"
     ]
    }
   ],
   "source": [
    "%%sh\n",
    "\n",
    "hdfs dfs -df"
   ]
  },
  {
   "cell_type": "code",
   "execution_count": 3,
   "metadata": {},
   "outputs": [
    {
     "name": "stdout",
     "output_type": "stream",
     "text": [
      "Filesystem                        Size   Used  Available  Use%\n",
      "hdfs://nn01.itversity.com:8020  16.5 T  6.5 T      9.1 T   39%\n"
     ]
    }
   ],
   "source": [
    "%%sh\n",
    "\n",
    "hdfs dfs -df -h"
   ]
  },
  {
   "cell_type": "code",
   "execution_count": 4,
   "metadata": {},
   "outputs": [
    {
     "name": "stdout",
     "output_type": "stream",
     "text": [
      "-du [-s] [-h] <path> ... :\n",
      "  Show the amount of space, in bytes, used by the files that match the specified\n",
      "  file pattern. The following flags are optional:\n",
      "                                                                                 \n",
      "  -s  Rather than showing the size of each individual file that matches the      \n",
      "      pattern, shows the total (summary) size.                                   \n",
      "  -h  Formats the sizes of files in a human-readable fashion rather than a number\n",
      "      of bytes.                                                                  \n",
      "  \n",
      "  Note that, even without the -s option, this only shows size summaries one level\n",
      "  deep into a directory.\n",
      "  \n",
      "  The output is in the form \n",
      "  \tsize\tname(full path)\n"
     ]
    }
   ],
   "source": [
    "%%sh\n",
    "\n",
    "hdfs dfs -help du"
   ]
  },
  {
   "cell_type": "code",
   "execution_count": 5,
   "metadata": {},
   "outputs": [
    {
     "name": "stdout",
     "output_type": "stream",
     "text": [
      "1029     /user/itversity/retail_db/categories\n",
      "953719   /user/itversity/retail_db/customers\n",
      "60       /user/itversity/retail_db/departments\n",
      "5408880  /user/itversity/retail_db/order_items\n",
      "2999944  /user/itversity/retail_db/orders\n",
      "174155   /user/itversity/retail_db/products\n"
     ]
    }
   ],
   "source": [
    "%%sh\n",
    "\n",
    "hdfs dfs -du /user/${USER}/retail_db"
   ]
  },
  {
   "cell_type": "code",
   "execution_count": 6,
   "metadata": {},
   "outputs": [
    {
     "name": "stdout",
     "output_type": "stream",
     "text": [
      "9537787  /user/itversity/retail_db\n"
     ]
    }
   ],
   "source": [
    "%%sh\n",
    "\n",
    "hdfs dfs -du -s /user/${USER}/retail_db"
   ]
  },
  {
   "cell_type": "code",
   "execution_count": 7,
   "metadata": {},
   "outputs": [
    {
     "name": "stdout",
     "output_type": "stream",
     "text": [
      "1.0 K    /user/itversity/retail_db/categories\n",
      "931.4 K  /user/itversity/retail_db/customers\n",
      "60       /user/itversity/retail_db/departments\n",
      "5.2 M    /user/itversity/retail_db/order_items\n",
      "2.9 M    /user/itversity/retail_db/orders\n",
      "170.1 K  /user/itversity/retail_db/products\n"
     ]
    }
   ],
   "source": [
    "%%sh\n",
    "\n",
    "hdfs dfs -du -h /user/${USER}/retail_db"
   ]
  },
  {
   "cell_type": "code",
   "execution_count": 8,
   "metadata": {},
   "outputs": [
    {
     "name": "stdout",
     "output_type": "stream",
     "text": [
      "9.1 M  /user/itversity/retail_db\n"
     ]
    }
   ],
   "source": [
    "%%sh\n",
    "\n",
    "hdfs dfs -du -s -h /user/${USER}/retail_db"
   ]
  },
  {
   "cell_type": "code",
   "execution_count": null,
   "metadata": {},
   "outputs": [],
   "source": []
  }
 ],
 "metadata": {
  "kernelspec": {
   "display_name": "Python 3",
   "language": "python",
   "name": "python3"
  },
  "language_info": {
   "codemirror_mode": {
    "name": "ipython",
    "version": 3
   },
   "file_extension": ".py",
   "mimetype": "text/x-python",
   "name": "python",
   "nbconvert_exporter": "python",
   "pygments_lexer": "ipython3",
   "version": "3.6.12"
  }
 },
 "nbformat": 4,
 "nbformat_minor": 4
}
