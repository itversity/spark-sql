{
 "cells": [
  {
   "cell_type": "markdown",
   "metadata": {},
   "source": [
    "## Using HDFS CLI\n",
    "\n",
    "Let us understand how to use HDFS CLI to interact with HDFS.\n",
    "* Typically the cluster contain 3 types of nodes.\n",
    "  * Gateway nodes or client nodes or edge nodes\n",
    "  * Master nodes\n",
    "  * Worker nodes\n",
    "* Developers like us will typically have access to Gateway nodes or Client nodes.\n",
    "* We can connect to Gateway nodes or Client nodes using SSH.\n",
    "* Once login, we can interact with HDFS either by using `hadoop fs` or `hdfs dfs`. Both of them are aliases to each other.\n",
    "* `hadoop` have other subcommands than `fs` and is typically used to interact with HDFS or Map Reduce as developers.\n",
    "* `hdfs` have other subcommands than `dfs`. It is typically used to not only manage files in HDFS but also administrative tasks related HDFS components such as **Namenode**, **Secondary Namenode**, **Datanode** etc.\n",
    "* As deveopers, our scope will be limited to use `hdfs dfs` or `hadoop fs` to interact with HDFS.\n",
    "* Both have sub commands and each of the sub command take additional control arguments. Let us understand the structure by taking the example of `hdfs dfs -ls -l -S -r /public`.\n",
    "  * `hdfs` is the main command to manage all the components of HDFS.\n",
    "  * `dfs` is the sub command to manage files in HDFS.\n",
    "  * `-ls` is the file system command to list files in HDFS.\n",
    "  * `-l -S -r` are control arguments for `-ls` to control the run time behavior of the command.\n",
    "  * `/public` is the argument for the `-ls` command. It is path in HDFS. You will understad as you get into the details."
   ]
  },
  {
   "cell_type": "code",
   "execution_count": null,
   "metadata": {},
   "outputs": [],
   "source": [
    "%%sh\n",
    "\n",
    "hadoop"
   ]
  },
  {
   "cell_type": "code",
   "execution_count": null,
   "metadata": {},
   "outputs": [],
   "source": [
    "%%sh\n",
    "\n",
    "hadoop fs -usage"
   ]
  },
  {
   "cell_type": "code",
   "execution_count": null,
   "metadata": {},
   "outputs": [],
   "source": [
    "%%sh\n",
    "\n",
    "hdfs"
   ]
  },
  {
   "cell_type": "code",
   "execution_count": null,
   "metadata": {},
   "outputs": [],
   "source": [
    "%%sh\n",
    "\n",
    "hdfs dfs -usage"
   ]
  },
  {
   "cell_type": "code",
   "execution_count": null,
   "metadata": {},
   "outputs": [],
   "source": []
  }
 ],
 "metadata": {
  "kernelspec": {
   "display_name": "Python 3",
   "language": "python",
   "name": "python3"
  },
  "language_info": {
   "codemirror_mode": {
    "name": "ipython",
    "version": 3
   },
   "file_extension": ".py",
   "mimetype": "text/x-python",
   "name": "python",
   "nbconvert_exporter": "python",
   "pygments_lexer": "ipython3",
   "version": "3.6.12"
  }
 },
 "nbformat": 4,
 "nbformat_minor": 4
}
