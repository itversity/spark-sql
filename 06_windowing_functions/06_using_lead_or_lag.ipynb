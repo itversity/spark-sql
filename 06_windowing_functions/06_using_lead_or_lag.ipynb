{
 "cells": [
  {
   "cell_type": "markdown",
   "metadata": {},
   "source": [
    "## Using LEAD or LAG\n",
    "\n",
    "Let us understand LEAD and LAG functions to get column values from following or prior records."
   ]
  },
  {
   "cell_type": "code",
   "execution_count": 5,
   "metadata": {
    "tags": [
     "remove-input"
    ]
   },
   "outputs": [
    {
     "data": {
      "text/html": [
       "<iframe width=\"560\" height=\"315\" src=\"https://www.youtube.com/embed/BhWIslXAebo?rel=0&amp;controls=1&amp;showinfo=0\" frameborder=\"0\" allowfullscreen></iframe>"
      ]
     },
     "execution_count": 5,
     "metadata": {},
     "output_type": "execute_result"
    }
   ],
   "source": [
    "%%HTML\n",
    "<iframe width=\"560\" height=\"315\" src=\"https://www.youtube.com/embed/BhWIslXAebo?rel=0&amp;controls=1&amp;showinfo=0\" frameborder=\"0\" allowfullscreen></iframe>"
   ]
  },
  {
   "cell_type": "markdown",
   "metadata": {},
   "source": [
    "Here is the example where we can get prior or following records based on **ORDER BY** within **OVER** Clause."
   ]
  },
  {
   "cell_type": "code",
   "execution_count": null,
   "metadata": {},
   "outputs": [],
   "source": [
    "%%sql\n",
    "\n",
    "USE itversity_retail"
   ]
  },
  {
   "cell_type": "code",
   "execution_count": null,
   "metadata": {},
   "outputs": [],
   "source": [
    "%%sql\n",
    "\n",
    "SELECT * FROM daily_revenue\n",
    "ORDER BY order_date DESC\n",
    "LIMIT 10"
   ]
  },
  {
   "cell_type": "code",
   "execution_count": null,
   "metadata": {},
   "outputs": [],
   "source": [
    "%%sql\n",
    "\n",
    "SELECT t.*,\n",
    "  lead(order_date) OVER (ORDER BY order_date DESC) AS prior_date,\n",
    "  lead(revenue) OVER (ORDER BY order_date DESC) AS prior_revenue,\n",
    "  lag(order_date) OVER (ORDER BY order_date) AS lag_prior_date,\n",
    "  lag(revenue) OVER (ORDER BY order_date) AS lag_prior_revenue\n",
    "FROM daily_revenue AS t\n",
    "ORDER BY order_date DESC\n",
    "LIMIT 10"
   ]
  },
  {
   "cell_type": "code",
   "execution_count": null,
   "metadata": {},
   "outputs": [],
   "source": [
    "%%sql\n",
    "\n",
    "SELECT t.*,\n",
    "  lead(order_date) OVER (ORDER BY order_date DESC) AS prior_date,\n",
    "  lead(revenue) OVER (ORDER BY order_date DESC) AS prior_revenue\n",
    "FROM daily_revenue AS t\n",
    "ORDER BY order_date\n",
    "LIMIT 10"
   ]
  },
  {
   "cell_type": "markdown",
   "metadata": {},
   "source": [
    "We can also pass number of rows as well as default values for nulls as arguments."
   ]
  },
  {
   "cell_type": "code",
   "execution_count": null,
   "metadata": {},
   "outputs": [],
   "source": [
    "%%sql\n",
    "\n",
    "USE itversity_retail"
   ]
  },
  {
   "cell_type": "code",
   "execution_count": null,
   "metadata": {},
   "outputs": [],
   "source": [
    "%%sql\n",
    "\n",
    "SELECT t.*,\n",
    "  lead(order_date, 7) OVER (ORDER BY order_date DESC) AS prior_date,\n",
    "  lead(revenue, 7) OVER (ORDER BY order_date DESC) AS prior_revenue\n",
    "FROM daily_revenue t\n",
    "ORDER BY order_date DESC\n",
    "LIMIT 10"
   ]
  },
  {
   "cell_type": "code",
   "execution_count": null,
   "metadata": {},
   "outputs": [],
   "source": [
    "%%sql\n",
    "\n",
    "SELECT t.*,\n",
    "  lead(order_date, 7) OVER (ORDER BY order_date DESC) AS prior_date,\n",
    "  lead(revenue, 7) OVER (ORDER BY order_date DESC) AS prior_revenue\n",
    "FROM daily_revenue t\n",
    "ORDER BY order_date\n",
    "LIMIT 10"
   ]
  },
  {
   "cell_type": "code",
   "execution_count": null,
   "metadata": {},
   "outputs": [],
   "source": [
    "%%sql\n",
    "\n",
    "SELECT t.*,\n",
    "  lead(order_date, 7, 'NA') OVER (ORDER BY order_date DESC) AS prior_date,\n",
    "  lead(revenue, 7, 0) OVER (ORDER BY order_date DESC) AS prior_revenue\n",
    "FROM daily_revenue t\n",
    "ORDER BY order_date\n",
    "LIMIT 10"
   ]
  },
  {
   "cell_type": "markdown",
   "metadata": {},
   "source": [
    "Let us see how we can get prior or following records with in a group based on particular order.\n",
    "\n",
    "Here is the example where we can get prior or following records based on **PARTITION BY** and then **ORDER BY** Clause."
   ]
  },
  {
   "cell_type": "code",
   "execution_count": null,
   "metadata": {},
   "outputs": [],
   "source": [
    "%%sql\n",
    "\n",
    "USE itversity_retail"
   ]
  },
  {
   "cell_type": "code",
   "execution_count": null,
   "metadata": {},
   "outputs": [],
   "source": [
    "%%sql\n",
    "\n",
    "DESCRIBE daily_product_revenue"
   ]
  },
  {
   "cell_type": "code",
   "execution_count": null,
   "metadata": {},
   "outputs": [],
   "source": [
    "%%sql\n",
    "\n",
    "SELECT * FROM daily_product_revenue \n",
    "ORDER BY order_date, revenue DESC\n",
    "LIMIT 10"
   ]
  },
  {
   "cell_type": "code",
   "execution_count": null,
   "metadata": {},
   "outputs": [],
   "source": [
    "%%sql\n",
    "\n",
    "SELECT t.*,\n",
    "  LEAD(order_item_product_id) OVER (\n",
    "    PARTITION BY order_date \n",
    "    ORDER BY revenue DESC\n",
    "  ) next_product_id,\n",
    "  LEAD(revenue) OVER (\n",
    "    PARTITION BY order_date \n",
    "    ORDER BY revenue DESC\n",
    "  ) next_revenue\n",
    "FROM daily_product_revenue t\n",
    "ORDER BY order_date, revenue DESC\n",
    "LIMIT 100"
   ]
  },
  {
   "cell_type": "code",
   "execution_count": null,
   "metadata": {},
   "outputs": [],
   "source": [
    "spark.sql(\"\"\"\n",
    "    SELECT t.*,\n",
    "      LEAD(order_item_product_id) OVER (\n",
    "        PARTITION BY order_date \n",
    "        ORDER BY revenue DESC\n",
    "      ) next_product_id,\n",
    "      LEAD(revenue) OVER (\n",
    "        PARTITION BY order_date \n",
    "        ORDER BY revenue DESC\n",
    "      ) next_revenue\n",
    "    FROM daily_product_revenue t\n",
    "    ORDER BY order_date, revenue DESC\n",
    "\"\"\").\n",
    "    show(100, false)"
   ]
  },
  {
   "cell_type": "markdown",
   "metadata": {},
   "source": [
    "We can also pass number of rows as well as default values for nulls as arguments."
   ]
  },
  {
   "cell_type": "code",
   "execution_count": null,
   "metadata": {},
   "outputs": [],
   "source": [
    "%%sql\n",
    "\n",
    "SELECT t.*,\n",
    "  LEAD(order_item_product_id) OVER (\n",
    "    PARTITION BY order_date ORDER BY revenue DESC\n",
    "  ) next_product_id,\n",
    "  LEAD(revenue, 1, 0) OVER (\n",
    "    PARTITION BY order_date ORDER BY revenue DESC\n",
    "  ) next_revenue\n",
    "FROM daily_product_revenue t\n",
    "ORDER BY order_date, revenue DESC\n",
    "LIMIT 100"
   ]
  },
  {
   "cell_type": "code",
   "execution_count": null,
   "metadata": {},
   "outputs": [],
   "source": [
    "spark.sql(\"\"\"\n",
    "    SELECT t.*,\n",
    "      LEAD(order_item_product_id) OVER (\n",
    "        PARTITION BY order_date ORDER BY revenue DESC\n",
    "      ) next_product_id,\n",
    "      LEAD(revenue, 1, 0) OVER (\n",
    "        PARTITION BY order_date ORDER BY revenue DESC\n",
    "      ) next_revenue\n",
    "    FROM daily_product_revenue t\n",
    "    ORDER BY order_date, revenue DESC\n",
    "    LIMIT 100\n",
    "\"\"\").\n",
    "    show(100, false)"
   ]
  }
 ],
 "metadata": {
  "kernelspec": {
   "display_name": "Apache Toree - Scala",
   "language": "scala",
   "name": "apache_toree_scala"
  },
  "language_info": {
   "name": ""
  }
 },
 "nbformat": 4,
 "nbformat_minor": 4
}
