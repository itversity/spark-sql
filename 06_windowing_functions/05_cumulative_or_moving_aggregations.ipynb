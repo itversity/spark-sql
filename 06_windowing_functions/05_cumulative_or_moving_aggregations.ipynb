{
 "cells": [
  {
   "cell_type": "markdown",
   "metadata": {},
   "source": [
    "## Cumulative or Moving Aggregations\n",
    "\n",
    "Let us understand how we can take care of cumulative or moving aggregations using Spark SQL.\n",
    "* When it comes to Windowing or Analytic Functions we can also specify window using `ROWS BETWEEN` clause.\n",
    "* We can leverage `ROWS BETWEEN` for cumulative aggregations or moving aggregations.\n",
    "* Here is an example of cumulative sum."
   ]
  },
  {
   "cell_type": "code",
   "execution_count": null,
   "metadata": {},
   "outputs": [],
   "source": [
    "%%sql\n",
    "\n",
    "USE itversity_hr"
   ]
  },
  {
   "cell_type": "code",
   "execution_count": null,
   "metadata": {},
   "outputs": [],
   "source": [
    "%%sql\n",
    "\n",
    "SELECT e.employee_id, e.department_id, e.salary,\n",
    "    sum(e.salary) OVER (\n",
    "        PARTITION BY e.department_id\n",
    "        ORDER BY e.salary DESC\n",
    "        ROWS BETWEEN UNBOUNDED PRECEDING AND CURRENT ROW\n",
    "    ) AS sum_sal_expense\n",
    "FROM employees e\n",
    "ORDER BY e.department_id, e.salary DESC"
   ]
  },
  {
   "cell_type": "code",
   "execution_count": null,
   "metadata": {},
   "outputs": [],
   "source": [
    "%%sql\n",
    "\n",
    "USE itversity_retail"
   ]
  },
  {
   "cell_type": "code",
   "execution_count": null,
   "metadata": {},
   "outputs": [],
   "source": [
    "%%sql\n",
    "\n",
    "SELECT t.*,\n",
    "    round(sum(t.revenue) OVER (\n",
    "        PARTITION BY date_format(order_date, 'yyyy-MM')\n",
    "        ORDER BY order_date\n",
    "        ROWS BETWEEN UNBOUNDED PRECEDING AND CURRENT ROW\n",
    "    ), 2) AS cumulative_daily_revenue\n",
    "FROM daily_revenue t\n",
    "ORDER BY date_format(order_date, 'yyyy-MM'),\n",
    "    order_date"
   ]
  },
  {
   "cell_type": "code",
   "execution_count": null,
   "metadata": {},
   "outputs": [],
   "source": [
    "spark.sql(\"\"\"\n",
    "SELECT t.*,\n",
    "    round(sum(t.revenue) OVER (\n",
    "        PARTITION BY date_format(order_date, 'yyyy-MM')\n",
    "        ORDER BY order_date\n",
    "        ROWS BETWEEN UNBOUNDED PRECEDING AND CURRENT ROW\n",
    "    ), 2) AS cumulative_daily_revenue\n",
    "FROM daily_revenue t\n",
    "ORDER BY date_format(order_date, 'yyyy-MM'), \n",
    "    order_date\n",
    "\"\"\").\n",
    "    show(100, false)"
   ]
  },
  {
   "cell_type": "markdown",
   "metadata": {},
   "source": [
    "* Here is an example for moving sum."
   ]
  },
  {
   "cell_type": "code",
   "execution_count": null,
   "metadata": {},
   "outputs": [],
   "source": [
    "%%sql\n",
    "\n",
    "USE itversity_retail"
   ]
  },
  {
   "cell_type": "code",
   "execution_count": null,
   "metadata": {},
   "outputs": [],
   "source": [
    "%%sql\n",
    "\n",
    "SELECT t.*,\n",
    "    round(sum(t.revenue) OVER (\n",
    "        ORDER BY order_date\n",
    "        ROWS BETWEEN 3 PRECEDING AND CURRENT ROW\n",
    "    ), 2) AS moving_3day_revenue\n",
    "FROM daily_revenue t\n",
    "ORDER BY order_date"
   ]
  },
  {
   "cell_type": "code",
   "execution_count": null,
   "metadata": {},
   "outputs": [],
   "source": [
    "spark.sql(\"\"\"\n",
    "    SELECT t.*,\n",
    "        round(sum(t.revenue) OVER (\n",
    "            ORDER BY order_date\n",
    "            ROWS BETWEEN 3 PRECEDING AND CURRENT ROW\n",
    "        ), 2) AS moving_3day_revenue\n",
    "    FROM daily_revenue t\n",
    "    ORDER BY order_date\n",
    "\"\"\").\n",
    "    show(30, false)"
   ]
  },
  {
   "cell_type": "code",
   "execution_count": null,
   "metadata": {},
   "outputs": [],
   "source": [
    "%%sql\n",
    "\n",
    "SELECT t.*,\n",
    "    round(sum(t.revenue) OVER (\n",
    "        PARTITION BY date_format(order_date, 'yyyy-MM')\n",
    "        ORDER BY order_date\n",
    "        ROWS BETWEEN 3 PRECEDING AND CURRENT ROW\n",
    "    ), 2) AS moving_3day_revenue\n",
    "FROM daily_revenue t\n",
    "ORDER BY date_format(order_date, 'yyyy-MM'),\n",
    "    order_date"
   ]
  },
  {
   "cell_type": "code",
   "execution_count": null,
   "metadata": {},
   "outputs": [],
   "source": [
    "spark.sql(\"\"\"\n",
    "SELECT t.*,\n",
    "    round(sum(t.revenue) OVER (\n",
    "        PARTITION BY date_format(order_date, 'yyyy-MM')\n",
    "        ORDER BY order_date\n",
    "        ROWS BETWEEN 3 PRECEDING AND CURRENT ROW\n",
    "    ), 2) AS moving_3day_revenue\n",
    "FROM daily_revenue t\n",
    "ORDER BY date_format(order_date, 'yyyy-MM'), \n",
    "    order_date\n",
    "\"\"\").\n",
    "    show(100, false)"
   ]
  }
 ],
 "metadata": {
  "kernelspec": {
   "display_name": "Apache Toree - Scala",
   "language": "scala",
   "name": "apache_toree_scala"
  },
  "language_info": {
   "name": ""
  }
 },
 "nbformat": 4,
 "nbformat_minor": 4
}
