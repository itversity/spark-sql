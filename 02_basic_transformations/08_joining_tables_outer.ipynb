{
 "cells": [
  {
   "cell_type": "markdown",
   "metadata": {},
   "source": [
    "## Joining Tables - Outer\n",
    "\n",
    "Let us understand how to perform outer joins using Spark SQL. There are 3 different types of outer joins."
   ]
  },
  {
   "cell_type": "code",
   "execution_count": 12,
   "metadata": {
    "tags": [
     "remove-input"
    ]
   },
   "outputs": [
    {
     "data": {
      "text/html": [
       "<iframe width=\"560\" height=\"315\" src=\"https://www.youtube.com/embed/RSE61x6B_90?rel=0&amp;controls=0&amp;showinfo=0\" frameborder=\"0\" allowfullscreen></iframe>"
      ]
     },
     "execution_count": 12,
     "metadata": {},
     "output_type": "execute_result"
    }
   ],
   "source": [
    "%%HTML\n",
    "<iframe width=\"560\" height=\"315\" src=\"https://www.youtube.com/embed/RSE61x6B_90?rel=0&amp;controls=1&amp;showinfo=0\" frameborder=\"0\" allowfullscreen></iframe>"
   ]
  },
  {
   "cell_type": "markdown",
   "metadata": {},
   "source": [
    "* LEFT OUTER JOIN (default) - Get all the records from both the datasets which satisfies JOIN condition along with those records which are in the left side table but not in the right side table.\n",
    "* RIGHT OUTER JOIN - Get all the records from both the datasets which satisfies JOIN condition along with those records which are in the right side table but not in the left side table.\n",
    "* FULL OUTER JOIN - left union right\n",
    "* When we perform the outer join (lets say left outer join), we will see this.\n",
    "  * Get all the values from both the tables when join condition satisfies.\n",
    "  * If there are rows on left side tables for which there are no corresponding values in right side table, all the projected column values for right side table will be null.\n",
    "* Here are some of the examples for outer join.\n",
    "    * Get all the orders where there are no corresponding order items.\n",
    "    * Get all the order items where there are no corresponding orders."
   ]
  },
  {
   "cell_type": "code",
   "execution_count": null,
   "metadata": {},
   "outputs": [],
   "source": [
    "%%sql\n",
    "\n",
    "SELECT o.order_id,\n",
    "    o.order_date,\n",
    "    o.order_status,\n",
    "    oi.order_item_order_id,\n",
    "    oi.order_item_subtotal\n",
    "FROM orders o LEFT OUTER JOIN order_items oi\n",
    "    ON o.order_id = oi.order_item_order_id\n",
    "LIMIT 10"
   ]
  },
  {
   "cell_type": "code",
   "execution_count": null,
   "metadata": {},
   "outputs": [],
   "source": [
    "%%sql\n",
    "\n",
    "SELECT count(1)\n",
    "FROM orders o LEFT OUTER JOIN order_items oi\n",
    "    ON o.order_id = oi.order_item_order_id"
   ]
  },
  {
   "cell_type": "code",
   "execution_count": null,
   "metadata": {},
   "outputs": [],
   "source": [
    "%%sql\n",
    "\n",
    "SELECT o.order_id,\n",
    "    o.order_date,\n",
    "    o.order_status,\n",
    "    oi.order_item_order_id,\n",
    "    oi.order_item_subtotal\n",
    "FROM orders o LEFT OUTER JOIN order_items oi\n",
    "    ON o.order_id = oi.order_item_order_id\n",
    "WHERE oi.order_item_order_id IS NULL\n",
    "LIMIT 10"
   ]
  },
  {
   "cell_type": "code",
   "execution_count": null,
   "metadata": {},
   "outputs": [],
   "source": [
    "%%sql\n",
    "\n",
    "SELECT count(1)\n",
    "FROM orders o LEFT OUTER JOIN order_items oi\n",
    "    ON o.order_id = oi.order_item_order_id\n",
    "WHERE oi.order_item_order_id IS NULL"
   ]
  },
  {
   "cell_type": "code",
   "execution_count": null,
   "metadata": {},
   "outputs": [],
   "source": [
    "%%sql\n",
    "\n",
    "SELECT count(1)\n",
    "FROM orders o LEFT OUTER JOIN order_items oi\n",
    "    ON o.order_id = oi.order_item_order_id\n",
    "WHERE oi.order_item_order_id IS NULL\n",
    "    AND o.order_status IN ('COMPLETE', 'CLOSED')"
   ]
  },
  {
   "cell_type": "code",
   "execution_count": null,
   "metadata": {},
   "outputs": [],
   "source": [
    "%%sql\n",
    "\n",
    "SELECT o.order_id,\n",
    "    o.order_date,\n",
    "    o.order_status,\n",
    "    oi.order_item_order_id,\n",
    "    oi.order_item_subtotal\n",
    "FROM orders o RIGHT OUTER JOIN order_items oi\n",
    "    ON o.order_id = oi.order_item_order_id\n",
    "LIMIT 10"
   ]
  },
  {
   "cell_type": "code",
   "execution_count": null,
   "metadata": {},
   "outputs": [],
   "source": [
    "%%sql\n",
    "\n",
    "SELECT count(1)\n",
    "FROM orders o RIGHT OUTER JOIN order_items oi\n",
    "    ON o.order_id = oi.order_item_order_id"
   ]
  },
  {
   "cell_type": "code",
   "execution_count": null,
   "metadata": {},
   "outputs": [],
   "source": [
    "%%sql\n",
    "\n",
    "SELECT o.order_id,\n",
    "    o.order_date,\n",
    "    o.order_status,\n",
    "    oi.order_item_order_id,\n",
    "    oi.order_item_subtotal\n",
    "FROM orders o RIGHT OUTER JOIN order_items oi\n",
    "    ON o.order_id = oi.order_item_order_id\n",
    "WHERE o.order_id IS NULL\n",
    "LIMIT 10"
   ]
  },
  {
   "cell_type": "markdown",
   "metadata": {},
   "source": [
    "* Using Spark SQL with Python or Scala"
   ]
  },
  {
   "cell_type": "code",
   "execution_count": null,
   "metadata": {},
   "outputs": [],
   "source": [
    "spark.sql(\"\"\"\n",
    "SELECT o.order_id,\n",
    "    o.order_date,\n",
    "    o.order_status,\n",
    "    oi.order_item_order_id,\n",
    "    oi.order_item_subtotal\n",
    "FROM orders o LEFT OUTER JOIN order_items oi\n",
    "    ON o.order_id = oi.order_item_order_id\n",
    "\"\"\").show()"
   ]
  },
  {
   "cell_type": "code",
   "execution_count": null,
   "metadata": {},
   "outputs": [],
   "source": [
    "spark.sql(\"\"\"\n",
    "SELECT count(1)\n",
    "FROM orders o LEFT OUTER JOIN order_items oi\n",
    "    ON o.order_id = oi.order_item_order_id\n",
    "\"\"\").show()"
   ]
  },
  {
   "cell_type": "code",
   "execution_count": null,
   "metadata": {},
   "outputs": [],
   "source": [
    "spark.sql(\"\"\"\n",
    "SELECT o.order_id,\n",
    "    o.order_date,\n",
    "    o.order_status,\n",
    "    oi.order_item_order_id,\n",
    "    oi.order_item_subtotal\n",
    "FROM orders o LEFT OUTER JOIN order_items oi\n",
    "    ON o.order_id = oi.order_item_order_id\n",
    "WHERE oi.order_item_order_id IS NULL\n",
    "\"\"\").show()"
   ]
  },
  {
   "cell_type": "code",
   "execution_count": null,
   "metadata": {},
   "outputs": [],
   "source": [
    "spark.sql(\"\"\"\n",
    "SELECT count(1)\n",
    "FROM orders o LEFT OUTER JOIN order_items oi\n",
    "    ON o.order_id = oi.order_item_order_id\n",
    "WHERE oi.order_item_order_id IS NULL"
   ]
  },
  {
   "cell_type": "code",
   "execution_count": null,
   "metadata": {},
   "outputs": [],
   "source": [
    "spark.sql(\"\"\"\n",
    "SELECT count(1)\n",
    "FROM orders o LEFT OUTER JOIN order_items oi\n",
    "    ON o.order_id = oi.order_item_order_id\n",
    "WHERE oi.order_item_order_id IS NULL\n",
    "    AND o.order_status IN ('COMPLETE', 'CLOSED')\n",
    "\"\"\").show()"
   ]
  },
  {
   "cell_type": "code",
   "execution_count": null,
   "metadata": {},
   "outputs": [],
   "source": [
    "spark.sql(\"\"\"\n",
    "SELECT o.order_id,\n",
    "    o.order_date,\n",
    "    o.order_status,\n",
    "    oi.order_item_order_id,\n",
    "    oi.order_item_subtotal\n",
    "FROM orders o RIGHT OUTER JOIN order_items oi\n",
    "    ON o.order_id = oi.order_item_order_id\n",
    "\"\"\").show()"
   ]
  },
  {
   "cell_type": "code",
   "execution_count": null,
   "metadata": {},
   "outputs": [],
   "source": [
    "spark.sql(\"\"\"\n",
    "SELECT count(1)\n",
    "FROM orders o RIGHT OUTER JOIN order_items oi\n",
    "    ON o.order_id = oi.order_item_order_id\n",
    "\"\"\").show()"
   ]
  },
  {
   "cell_type": "code",
   "execution_count": null,
   "metadata": {},
   "outputs": [],
   "source": [
    "spark.sql(\"\"\"\n",
    "SELECT o.order_id,\n",
    "    o.order_date,\n",
    "    o.order_status,\n",
    "    oi.order_item_order_id,\n",
    "    oi.order_item_subtotal\n",
    "FROM orders o RIGHT OUTER JOIN order_items oi\n",
    "    ON o.order_id = oi.order_item_order_id\n",
    "WHERE o.order_id IS NULL\n",
    "\"\"\").show()"
   ]
  }
 ],
 "metadata": {
  "celltoolbar": "Tags",
  "kernelspec": {
   "display_name": "Apache Toree - Scala",
   "language": "scala",
   "name": "apache_toree_scala"
  },
  "language_info": {
   "codemirror_mode": "text/x-scala",
   "file_extension": ".scala",
   "mimetype": "text/x-scala",
   "name": "scala",
   "pygments_lexer": "scala",
   "version": "2.11.12"
  }
 },
 "nbformat": 4,
 "nbformat_minor": 4
}
