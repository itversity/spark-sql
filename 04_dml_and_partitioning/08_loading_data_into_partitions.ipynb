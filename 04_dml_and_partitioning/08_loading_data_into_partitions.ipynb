{
 "cells": [
  {
   "cell_type": "markdown",
   "metadata": {},
   "source": [
    "## Loading into Partitions\n",
    "\n",
    "Let us understand how to use load command to load data into partitioned tables."
   ]
  },
  {
   "cell_type": "code",
   "execution_count": 8,
   "metadata": {
    "tags": [
     "remove-input"
    ]
   },
   "outputs": [
    {
     "data": {
      "text/html": [
       "<iframe width=\"560\" height=\"315\" src=\"https://www.youtube.com/embed/gu4oG0aJ0js?rel=0&amp;controls=1&amp;showinfo=0\" frameborder=\"0\" allowfullscreen></iframe>"
      ]
     },
     "execution_count": 8,
     "metadata": {},
     "output_type": "execute_result"
    }
   ],
   "source": [
    "%%HTML\n",
    "<iframe width=\"560\" height=\"315\" src=\"https://www.youtube.com/embed/gu4oG0aJ0js?rel=0&amp;controls=1&amp;showinfo=0\" frameborder=\"0\" allowfullscreen></iframe>"
   ]
  },
  {
   "cell_type": "markdown",
   "metadata": {},
   "source": [
    "* We need to make sure that file format of the file which is being loaded into table is same as the file format used while creating the table.\n",
    "* We also need to make sure that delimiters are consistent between files and table for text file format.\n",
    "* Also data should match the criteria for the partition into which data is loaded.\n",
    "* Our `/data/retail_db/orders` have data for the whole year and hence we should not load the data directly into partition.\n",
    "* We need to split into files matching partition criteria and then load into the table.\n",
    "\n",
    "To use load command to load the files into partitions we need to pre-partition the data based on partition logic. \n",
    "\n",
    "Here is the example of using simple shell commands to partition the data. Use command prompt to run these commands\n",
    "\n",
    "\n",
    "```shell\n",
    "rm -rf ~/orders\n",
    "mkdir -p ~/orders\n",
    "\n",
    "grep 2013-07 /data/retail_db/orders/part-00000 > ~/orders/orders_201307\n",
    "grep 2013-08 /data/retail_db/orders/part-00000 > ~/orders/orders_201308\n",
    "grep 2013-09 /data/retail_db/orders/part-00000 > ~/orders/orders_201309\n",
    "grep 2013-10 /data/retail_db/orders/part-00000 > ~/orders/orders_201310\n",
    "```\n",
    "\n",
    "Let us see how we can load data into corresponding partitions. Data has to be pre-partitioned based on the partitioned column."
   ]
  },
  {
   "cell_type": "code",
   "execution_count": null,
   "metadata": {},
   "outputs": [],
   "source": [
    "%%sql\n",
    "\n",
    "USE itversity_retail"
   ]
  },
  {
   "cell_type": "code",
   "execution_count": null,
   "metadata": {},
   "outputs": [],
   "source": [
    "%%sql\n",
    "\n",
    "LOAD DATA LOCAL INPATH '/home/itversity/orders/orders_201307'\n",
    "  INTO TABLE orders_part PARTITION (order_month=201307)"
   ]
  },
  {
   "cell_type": "code",
   "execution_count": null,
   "metadata": {},
   "outputs": [],
   "source": [
    "import sys.process._\n",
    "\n",
    "s\"hdfs dfs -ls -R /user/${username}/warehouse/${username}_retail.db/orders_part\" !"
   ]
  },
  {
   "cell_type": "code",
   "execution_count": null,
   "metadata": {},
   "outputs": [],
   "source": [
    "%%sql\n",
    "\n",
    "LOAD DATA LOCAL INPATH '/home/itversity/orders/orders_201308'\n",
    "  INTO TABLE orders_part PARTITION (order_month=201308)"
   ]
  },
  {
   "cell_type": "code",
   "execution_count": null,
   "metadata": {},
   "outputs": [],
   "source": [
    "%%sql\n",
    "\n",
    "LOAD DATA LOCAL INPATH '/home/itversity/orders/orders_201309'\n",
    "  INTO TABLE orders_part PARTITION (order_month=201309)"
   ]
  },
  {
   "cell_type": "code",
   "execution_count": null,
   "metadata": {},
   "outputs": [],
   "source": [
    "%%sql\n",
    "\n",
    "LOAD DATA LOCAL INPATH '/home/itversity/orders/orders_201310'\n",
    "  INTO TABLE orders_part PARTITION (order_month=201310)"
   ]
  },
  {
   "cell_type": "code",
   "execution_count": null,
   "metadata": {},
   "outputs": [],
   "source": [
    "import sys.process._\n",
    "\n",
    "s\"hdfs dfs -ls -R /user/${username}/warehouse/${username}_retail.db/orders_part\" !"
   ]
  },
  {
   "cell_type": "code",
   "execution_count": null,
   "metadata": {},
   "outputs": [],
   "source": [
    "import sys.process._\n",
    "\n",
    "s\"hdfs dfs -tail /user/${username}/warehouse/${username}_retail.db/orders_part/order_month=201310/orders_201310\"!"
   ]
  },
  {
   "cell_type": "code",
   "execution_count": null,
   "metadata": {},
   "outputs": [],
   "source": [
    "%%sql\n",
    "\n",
    "SELECT * FROM orders_part LIMIT 10"
   ]
  }
 ],
 "metadata": {
  "kernelspec": {
   "display_name": "Apache Toree - Scala",
   "language": "scala",
   "name": "apache_toree_scala"
  },
  "language_info": {
   "name": ""
  }
 },
 "nbformat": 4,
 "nbformat_minor": 4
}
